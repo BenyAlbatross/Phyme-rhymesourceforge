{
 "cells": [
  {
   "cell_type": "code",
   "execution_count": 29,
   "metadata": {
    "collapsed": true
   },
   "outputs": [],
   "source": [
    "import csv\n",
    "import re\n",
    "from collections import defaultdict"
   ]
  },
  {
   "cell_type": "code",
   "execution_count": 2,
   "metadata": {
    "collapsed": true
   },
   "outputs": [],
   "source": [
    "!open ."
   ]
  },
  {
   "cell_type": "code",
   "execution_count": 261,
   "metadata": {},
   "outputs": [],
   "source": [
    "word_phone_dict = {}\n",
    "# associate words with a list of phonemes\n",
    "with open('./cmudict/cmudict-0.7b.txt', encoding='latin1') as f:\n",
    "    for line in f:\n",
    "        if line.startswith(';;;'):\n",
    "            continue\n",
    "        splits = line.split()\n",
    "        word = splits[0]\n",
    "        word_phone_dict[splits[0]] = splits[1:]\n",
    "\n",
    "def load_word_phone_dict():\n",
    "    word_phone_dict = {}\n",
    "    # associate words with a list of phonemes\n",
    "    with open('./cmudict/cmudict-0.7b.txt', encoding='latin1') as f:\n",
    "        for line in f:\n",
    "            if line.startswith(';;;'):\n",
    "                continue\n",
    "            splits = line.split()\n",
    "            word = splits[0]\n",
    "            word_phone_dict[splits[0]] = splits[1:]\n",
    "    return word_phone_dict"
   ]
  },
  {
   "cell_type": "code",
   "execution_count": 201,
   "metadata": {},
   "outputs": [],
   "source": [
    "phone_type_dict = {}\n",
    "type_phone_dict = defaultdict(list)\n",
    "with open('./cmudict/cmudict-0.7b.phones.txt', encoding='latin1') as f:\n",
    "    for line in f:\n",
    "        splits = line.split()\n",
    "        word = splits[0]\n",
    "        phone_type_dict[splits[0]] = splits[1]\n",
    "        if splits[1] == 'vowel':\n",
    "            # quick lookup for stressed syllables: AY0, AY1, AY2\n",
    "            for x in range(3):\n",
    "                phone_type_dict[splits[0] + str(x)] = 'vowel'\n",
    "        type_phone_dict[splits[1]].append(splits[0])"
   ]
  },
  {
   "cell_type": "code",
   "execution_count": null,
   "metadata": {
    "collapsed": true
   },
   "outputs": [],
   "source": [
    "def flatten(x):\n",
    "    for y in x:\n",
    "        yield from y"
   ]
  },
  {
   "cell_type": "code",
   "execution_count": 287,
   "metadata": {
    "collapsed": true
   },
   "outputs": [],
   "source": [
    "def is_vowel(phone):\n",
    "    ''''''\n",
    "    return phone_type_dict[phone] == 'vowel'\n",
    "\n",
    "def stress_vowel(vowel):\n",
    "    for x in range(1, 3):\n",
    "        yield vowel + str(x)"
   ]
  },
  {
   "cell_type": "code",
   "execution_count": 288,
   "metadata": {},
   "outputs": [
    {
     "data": {
      "text/plain": [
       "['hi1', 'hi2']"
      ]
     },
     "execution_count": 288,
     "metadata": {},
     "output_type": "execute_result"
    }
   ],
   "source": []
  },
  {
   "cell_type": "code",
   "execution_count": 203,
   "metadata": {
    "collapsed": true
   },
   "outputs": [],
   "source": [
    "def extract_syllables(phones):\n",
    "    '''Extract syllable groupings from a list of phones. Syllables are split by vowel, including ending consonants.\n",
    "    Starting consonants are grouped with the following vowel and consonants\n",
    "    Returns a list of lists'''\n",
    "    syllables = []\n",
    "    syl = []\n",
    "    seen_vowel = False\n",
    "    for phone in phones:\n",
    "        if is_vowel(phone):\n",
    "            if syl and seen_vowel:\n",
    "                syllables.append(syl)\n",
    "                syl = []\n",
    "            seen_vowel = True\n",
    "        syl.append(phone)\n",
    "    syllables.append(syl)\n",
    "    return syllables\n",
    "    \n",
    "        "
   ]
  },
  {
   "cell_type": "code",
   "execution_count": 214,
   "metadata": {
    "collapsed": true
   },
   "outputs": [],
   "source": [
    "class RhymeTrie(object):\n",
    "    '''A RhymeTrie holds RhymeTrie nodes and accesses them.'''\n",
    "    \n",
    "    def __init__(self):\n",
    "        self.children = {}\n",
    "    \n",
    "    def insert(self, phones, word):\n",
    "        '''Given a word and its phones, insert them into the trie. Associate the word with the end node.\n",
    "        Returns a RhymeTrieNode'''\n",
    "        # reverse phones to search down trie\n",
    "        phones = phones[::-1]\n",
    "        child_node = self.children.get(phones[0])\n",
    "        if child_node is None:\n",
    "            child_node = RhymeTrieNode(phones[0], self, len(phones) == 1)\n",
    "            self.children[phones[0]] = child_node\n",
    "        remaining_phones = phones[1:]\n",
    "        if remaining_phones:\n",
    "            final_node = child_node.insert(remaining_phones)\n",
    "            final_node.words.add(word)\n",
    "            return final_node\n",
    "        else:\n",
    "            child_node.words.add(word)\n",
    "            return child_node\n",
    "        \n",
    "    def contains(self, phones):\n",
    "        '''Given a list of phones, finds the end node in the trie associated with those phones.\n",
    "        Returns a RhymeTrieNode'''\n",
    "        phones = phones[::-1]\n",
    "        child_node = self.children.get(phones[0])\n",
    "        remaining_phones = phones[1:]\n",
    "        if child_node:\n",
    "            return child_node.contains(remaining_phones)\n",
    "        return False\n",
    "        \n",
    "    def search(self, phones):\n",
    "        '''Given a list of phones, find a node in the trie associated with those phones.\n",
    "        Returns a RhymeTrieNode or None if there is no node associated with the given phones'''\n",
    "        # reverse phones to search down trie\n",
    "        phones = phones[::-1]\n",
    "        child_node = self.children.get(phones[0])\n",
    "        remaining_phones = phones[1:]\n",
    "        if child_node:\n",
    "            return child_node.search(remaining_phones)\n",
    "        return None\n",
    "        \n",
    "    def count_nodes(self):\n",
    "        '''Counts the number of children nodes in the trie'''\n",
    "        return sum(child.count_nodes() for _, child in self.children.items())\n",
    "    \n",
    "    def count_words(self):\n",
    "        '''Counts the number of words in the trie'''\n",
    "        return sum(child.count_words() for _, child in self.children.items())"
   ]
  },
  {
   "cell_type": "code",
   "execution_count": 232,
   "metadata": {},
   "outputs": [],
   "source": [
    "class RhymeTrieNode(object):\n",
    "    \n",
    "    def __init__(self, phone, parent, word=False):\n",
    "        self.children = {}\n",
    "        self.parent = parent\n",
    "        self.phone = phone\n",
    "        self.words = set()\n",
    "        \n",
    "    def insert(self, phones):\n",
    "        '''Insert a list of phones into this node and its children. Returns the final node of the insert.'''\n",
    "        if not phones:\n",
    "            return self\n",
    "        child_node = self.children.get(phones[0])\n",
    "        if child_node is None:\n",
    "            child_node = RhymeTrieNode(phones[0], self, len(phones) == 1)\n",
    "            self.children[phones[0]] = child_node\n",
    "        remaining_phones = phones[1:]\n",
    "        return child_node.insert(remaining_phones)\n",
    "    \n",
    "    def contains(self, phones):\n",
    "        '''Given a list of phones, finds the end node in the trie associated with those phones.\n",
    "        Returns a RhymeTrieNode or False if there is no end node associated with the given phones'''\n",
    "        if phones:\n",
    "            child_node = self.children.get(phones[0])\n",
    "            if child_node:\n",
    "                return child_node.search(phones[1:])\n",
    "        elif self.words:\n",
    "            return self\n",
    "        return False\n",
    "    \n",
    "    def search(self, phones):\n",
    "        '''Given a list of phones, find a node in the trie associated with those phones.\n",
    "        Returns a RhymeTrieNode or None if there is no node associated with the given phones'''\n",
    "        if not phones:\n",
    "            return self\n",
    "        child_node = self.children.get(phones[0])\n",
    "        if child_node:\n",
    "            return child_node.search(phones[1:])\n",
    "        return None\n",
    "    \n",
    "    def assemble(self):\n",
    "        '''Aggregate all phones up the trie from this node, inclusive. Returns a generator'''\n",
    "        if isinstance(self.parent, RhymeTrieNode):\n",
    "            yield self.phone\n",
    "            yield from self.parent.assemble()\n",
    "        else:\n",
    "            yield self.phone\n",
    "    \n",
    "    def count_nodes(self):\n",
    "        '''Counts the number of children nodes in the trie'''\n",
    "        return 1 + sum(child.count_nodes() for _, child in self.children.items())\n",
    "    \n",
    "    def count_words(self):\n",
    "        '''Counts the number of words in the trie'''\n",
    "        return len(self.words) + sum(child.count_words() for _, child in self.children.items())\n",
    "    \n",
    "    def get_sub_words(self):\n",
    "        yield from self.words\n",
    "        for _, child in self.children.items():\n",
    "            yield from child.get_sub_words()"
   ]
  },
  {
   "cell_type": "code",
   "execution_count": 233,
   "metadata": {},
   "outputs": [],
   "source": [
    "rt = RhymeTrie()\n",
    "for word, phones in word_phone_dict.items():\n",
    "    rt.insert(phones, word)"
   ]
  },
  {
   "cell_type": "code",
   "execution_count": 213,
   "metadata": {},
   "outputs": [],
   "source": [
    "for word, phones in word_phone_dict.items():\n",
    "    retrieved = rt.search(phones)\n",
    "    assert word in retrieved.words\n",
    "assert 'KLEVEN' in set(rt.search(word_phone_dict['LEVEN']).get_sub_words())"
   ]
  },
  {
   "cell_type": "code",
   "execution_count": 277,
   "metadata": {},
   "outputs": [],
   "source": [
    "class RhymeDict(object):\n",
    "    \n",
    "    def __init__(self):\n",
    "        self.dict = load_word_phone_dict()\n",
    "        rt = RhymeTrie()\n",
    "        for word, phones in self.dict.items():\n",
    "            rt.insert(phones, word)\n",
    "        self.rhyme_trie = rt\n",
    "    \n",
    "    def perfect_rhyme(self, word):\n",
    "        word = word.upper()\n",
    "        phones = self.dict[word]\n",
    "        # chop off first consonant\n",
    "        phones = phones[1:]\n",
    "        results = set(rt.search(phones).get_sub_words())\n",
    "        if results:\n",
    "            results.remove(word)\n",
    "        return results\n",
    "    \n",
    "    def\n",
    "        "
   ]
  },
  {
   "cell_type": "code",
   "execution_count": 286,
   "metadata": {},
   "outputs": [
    {
     "ename": "AttributeError",
     "evalue": "'RhymeDict' object has no attribute 'consonant_family_rhyme'",
     "output_type": "error",
     "traceback": [
      "\u001b[0;31m---------------------------------------------------------------------------\u001b[0m",
      "\u001b[0;31mAttributeError\u001b[0m                            Traceback (most recent call last)",
      "\u001b[0;32m<ipython-input-286-b7c87435a6dc>\u001b[0m in \u001b[0;36m<module>\u001b[0;34m()\u001b[0m\n\u001b[1;32m      1\u001b[0m \u001b[0mrd\u001b[0m \u001b[0;34m=\u001b[0m \u001b[0mRhymeDict\u001b[0m\u001b[0;34m(\u001b[0m\u001b[0;34m)\u001b[0m\u001b[0;34m\u001b[0m\u001b[0m\n\u001b[1;32m      2\u001b[0m \u001b[0;32massert\u001b[0m \u001b[0;34m'COG'\u001b[0m \u001b[0;32min\u001b[0m \u001b[0mrd\u001b[0m\u001b[0;34m.\u001b[0m\u001b[0mperfect_rhyme\u001b[0m\u001b[0;34m(\u001b[0m\u001b[0;34m'dog'\u001b[0m\u001b[0;34m)\u001b[0m\u001b[0;34m\u001b[0m\u001b[0m\n\u001b[0;32m----> 3\u001b[0;31m \u001b[0;32massert\u001b[0m \u001b[0;34m'COB'\u001b[0m \u001b[0;32min\u001b[0m \u001b[0mrd\u001b[0m\u001b[0;34m.\u001b[0m\u001b[0mconsonant_family_rhyme\u001b[0m\u001b[0;34m(\u001b[0m\u001b[0;34m'dog'\u001b[0m\u001b[0;34m)\u001b[0m\u001b[0;34m\u001b[0m\u001b[0m\n\u001b[0m",
      "\u001b[0;31mAttributeError\u001b[0m: 'RhymeDict' object has no attribute 'consonant_family_rhyme'"
     ]
    }
   ],
   "source": [
    "rd = RhymeDict()\n",
    "assert 'COG' in rd.perfect_rhyme('dog')\n",
    "assert 'COB' in rd.consonant_family_rhyme('dog')"
   ]
  },
  {
   "cell_type": "code",
   "execution_count": 285,
   "metadata": {},
   "outputs": [],
   "source": []
  },
  {
   "cell_type": "code",
   "execution_count": 283,
   "metadata": {},
   "outputs": [
    {
     "data": {
      "text/plain": [
       "(['D', 'R', 'AY1', 'V'], ['P', 'R', 'OW1', 'L', 'AA0', 'G'])"
      ]
     },
     "execution_count": 283,
     "metadata": {},
     "output_type": "execute_result"
    }
   ],
   "source": [
    "word_phone_dict['DR'], word_phone_dict['PROLOGUE']"
   ]
  },
  {
   "cell_type": "code",
   "execution_count": 175,
   "metadata": {},
   "outputs": [
    {
     "data": {
      "text/plain": [
       "{}"
      ]
     },
     "execution_count": 175,
     "metadata": {},
     "output_type": "execute_result"
    }
   ],
   "source": [
    "word_phone_dict"
   ]
  },
  {
   "cell_type": "code",
   "execution_count": null,
   "metadata": {
    "collapsed": true
   },
   "outputs": [],
   "source": []
  }
 ],
 "metadata": {
  "kernelspec": {
   "display_name": "Python 3",
   "language": "python",
   "name": "python3"
  },
  "language_info": {
   "codemirror_mode": {
    "name": "ipython",
    "version": 3
   },
   "file_extension": ".py",
   "mimetype": "text/x-python",
   "name": "python",
   "nbconvert_exporter": "python",
   "pygments_lexer": "ipython3",
   "version": "3.6.2"
  }
 },
 "nbformat": 4,
 "nbformat_minor": 2
}
