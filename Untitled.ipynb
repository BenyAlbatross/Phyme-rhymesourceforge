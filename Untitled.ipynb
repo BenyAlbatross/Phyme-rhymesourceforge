{
 "cells": [
  {
   "cell_type": "code",
   "execution_count": 10,
   "metadata": {},
   "outputs": [],
   "source": [
    "import re\n",
    "from collections import defaultdict\n",
    "import sys\n",
    "sys.path.append('./src')\n",
    "import util\n",
    "from IOUtil import load_word_phone_dict, load_phone_type_dicts, load_rhyme_trie\n",
    "import rhymeUtils as ru\n",
    "from util import flatten"
   ]
  },
  {
   "cell_type": "code",
   "execution_count": 2,
   "metadata": {
    "collapsed": true
   },
   "outputs": [],
   "source": [
    "# TODO: group affricate and fricative together\n",
    "word_phone_dict = load_word_phone_dict()\n",
    "phone_type_dict, type_phone_dict = load_phone_type_dicts()"
   ]
  },
  {
   "cell_type": "code",
   "execution_count": 3,
   "metadata": {
    "collapsed": true
   },
   "outputs": [],
   "source": [
    "def stress_vowel(vowel):\n",
    "    '''Given a plain vowel, eg AY, yield its stressed versions'''\n",
    "    for x in range(1, 3):\n",
    "        yield vowel + str(x)"
   ]
  },
  {
   "cell_type": "code",
   "execution_count": 4,
   "metadata": {
    "collapsed": true
   },
   "outputs": [],
   "source": [
    "# TEST\n",
    "rt = load_rhyme_trie()\n",
    "for word, phones in word_phone_dict.items():\n",
    "    retrieved = rt.search(phones)\n",
    "    assert word in retrieved.words\n",
    "assert 'KLEVEN' in set(rt.search(word_phone_dict['LEVEN']).get_sub_words())"
   ]
  },
  {
   "cell_type": "code",
   "execution_count": 24,
   "metadata": {},
   "outputs": [],
   "source": [
    "class RhymeDict(object):\n",
    "    \n",
    "    def __init__(self):\n",
    "        self.dict = load_word_phone_dict()\n",
    "        self.rhyme_trie = load_rhyme_trie()\n",
    "    \n",
    "    def search(self, phones):\n",
    "        '''Search the rhyme trie for sub words given a listen of phones\n",
    "        Returns a set of strings'''\n",
    "        return set(self.rhyme_trie.search(phones).get_sub_words())\n",
    "    \n",
    "    def get_perfect_rhymes(self, word):\n",
    "        '''Get perfect rhymes of a word, based on its last stressed vowel'''\n",
    "        phones = ru.get_phones(word)        \n",
    "        results = self.search(phones)\n",
    "        if results:\n",
    "            results.remove(word.upper())\n",
    "        return results\n",
    "    \n",
    "    def get_additive_rhymes(self, word):\n",
    "        '''Get additve rhymes (PASS -> FAST)'''\n",
    "        # TODO: find legitimate amalgamations of consonants?\n",
    "        pass\n",
    "    \n",
    "    def get_subtractive_rhymes(self, word):\n",
    "        '''Get subtractive rhymes (FAST -> PASS)'''\n",
    "        pass\n",
    "    \n",
    "    def get_family_rhymes(self, word):\n",
    "        '''Get rhymes from the same consonant family (type, voiced) (DOG -> COB)\n",
    "        Design decisions:\n",
    "        - should family rhyme be on stressed or unstressed syllables (or both?) \n",
    "        - how to handle composite \n",
    "        '''\n",
    "        phones = ru.get_phones(word)\n",
    "#         if is_consonant(phones[-1]):\n",
    "#             for consonant in \n",
    "        \n",
    "#         pass\n",
    "    \n",
    "    def get_partner_rhymes(self, word):\n",
    "        '''Get rhymes from the same consonant groups (eg, fricative)'''\n",
    "        pass\n",
    "    \n",
    "    def get_assonance_rhymes(self, word):\n",
    "        '''Get rhymes that stress the same vowel'''\n",
    "        pass\n",
    "    \n",
    "    def get_perfect_vowel_partner_rhymes(self, word):\n",
    "        '''Get rhymes using similar vowels with the same consonant'''\n",
    "        pass\n",
    "    \n",
    "    def get_family_vowel_partner_partner_rhymes(self, word):\n",
    "        '''Get rhymes using similar values with consonant family'''\n",
    "        pass\n",
    "    \n",
    "    def get_partner_vowel_partner_rhymes(self, word):\n",
    "        '''Get rhymes with similar vowels with same consonant group'''\n",
    "        pass\n",
    "    \n",
    "    def get_consonant_rhymes(self, word):\n",
    "        '''Get rhymes that end with the same consonant'''\n",
    "        pass\n",
    "        "
   ]
  },
  {
   "cell_type": "code",
   "execution_count": 25,
   "metadata": {},
   "outputs": [
    {
     "ename": "AttributeError",
     "evalue": "'RhymeDict' object has no attribute 'get_phones'",
     "output_type": "error",
     "traceback": [
      "\u001b[0;31m---------------------------------------------------------------------------\u001b[0m",
      "\u001b[0;31mAttributeError\u001b[0m                            Traceback (most recent call last)",
      "\u001b[0;32m<ipython-input-25-14a16b7dcca3>\u001b[0m in \u001b[0;36m<module>\u001b[0;34m()\u001b[0m\n\u001b[1;32m      1\u001b[0m \u001b[0mrd\u001b[0m \u001b[0;34m=\u001b[0m \u001b[0mRhymeDict\u001b[0m\u001b[0;34m(\u001b[0m\u001b[0;34m)\u001b[0m\u001b[0;34m\u001b[0m\u001b[0m\n\u001b[0;32m----> 2\u001b[0;31m \u001b[0;32massert\u001b[0m \u001b[0;34m'COG'\u001b[0m \u001b[0;32min\u001b[0m \u001b[0mrd\u001b[0m\u001b[0;34m.\u001b[0m\u001b[0mget_perfect_rhymes\u001b[0m\u001b[0;34m(\u001b[0m\u001b[0;34m'dog'\u001b[0m\u001b[0;34m)\u001b[0m\u001b[0;34m\u001b[0m\u001b[0m\n\u001b[0m\u001b[1;32m      3\u001b[0m \u001b[0;32massert\u001b[0m \u001b[0;34m'SIMPLE'\u001b[0m \u001b[0;32min\u001b[0m \u001b[0mrd\u001b[0m\u001b[0;34m.\u001b[0m\u001b[0mget_perfect_rhymes\u001b[0m\u001b[0;34m(\u001b[0m\u001b[0;34m'dimple'\u001b[0m\u001b[0;34m)\u001b[0m\u001b[0;34m\u001b[0m\u001b[0m\n\u001b[1;32m      4\u001b[0m \u001b[0;32massert\u001b[0m \u001b[0;34m'COB'\u001b[0m \u001b[0;32min\u001b[0m \u001b[0mrd\u001b[0m\u001b[0;34m.\u001b[0m\u001b[0mget_family_rhymes\u001b[0m\u001b[0;34m(\u001b[0m\u001b[0;34m'dog'\u001b[0m\u001b[0;34m)\u001b[0m\u001b[0;34m\u001b[0m\u001b[0m\n",
      "\u001b[0;32m<ipython-input-24-7c69a56eb00b>\u001b[0m in \u001b[0;36mget_perfect_rhymes\u001b[0;34m(self, word)\u001b[0m\n\u001b[1;32m     12\u001b[0m     \u001b[0;32mdef\u001b[0m \u001b[0mget_perfect_rhymes\u001b[0m\u001b[0;34m(\u001b[0m\u001b[0mself\u001b[0m\u001b[0;34m,\u001b[0m \u001b[0mword\u001b[0m\u001b[0;34m)\u001b[0m\u001b[0;34m:\u001b[0m\u001b[0;34m\u001b[0m\u001b[0m\n\u001b[1;32m     13\u001b[0m         \u001b[0;34m'''Get perfect rhymes of a word, based on its last stressed vowel'''\u001b[0m\u001b[0;34m\u001b[0m\u001b[0m\n\u001b[0;32m---> 14\u001b[0;31m         \u001b[0mphones\u001b[0m \u001b[0;34m=\u001b[0m \u001b[0mself\u001b[0m\u001b[0;34m.\u001b[0m\u001b[0mget_phones\u001b[0m\u001b[0;34m(\u001b[0m\u001b[0mword\u001b[0m\u001b[0;34m)\u001b[0m\u001b[0;34m\u001b[0m\u001b[0m\n\u001b[0m\u001b[1;32m     15\u001b[0m         \u001b[0mresults\u001b[0m \u001b[0;34m=\u001b[0m \u001b[0mself\u001b[0m\u001b[0;34m.\u001b[0m\u001b[0msearch\u001b[0m\u001b[0;34m(\u001b[0m\u001b[0mphones\u001b[0m\u001b[0;34m)\u001b[0m\u001b[0;34m\u001b[0m\u001b[0m\n\u001b[1;32m     16\u001b[0m         \u001b[0;32mif\u001b[0m \u001b[0mresults\u001b[0m\u001b[0;34m:\u001b[0m\u001b[0;34m\u001b[0m\u001b[0m\n",
      "\u001b[0;31mAttributeError\u001b[0m: 'RhymeDict' object has no attribute 'get_phones'"
     ]
    }
   ],
   "source": [
    "rd = RhymeDict()\n",
    "assert 'COG' in rd.get_perfect_rhymes('dog')\n",
    "assert 'SIMPLE' in rd.get_perfect_rhymes('dimple')\n",
    "assert 'COB' in rd.get_family_rhymes('dog')"
   ]
  },
  {
   "cell_type": "code",
   "execution_count": 22,
   "metadata": {},
   "outputs": [
    {
     "data": {
      "text/plain": [
       "{'BOEPPLE', 'KLOEPPEL', 'KOEPPEL', 'KOPEL', 'OPAL', 'OPEL', 'OPLE', 'TOPEL'}"
      ]
     },
     "execution_count": 22,
     "metadata": {},
     "output_type": "execute_result"
    }
   ],
   "source": [
    "rd.get_perfect_rhymes('constantinople')"
   ]
  },
  {
   "cell_type": "code",
   "execution_count": 23,
   "metadata": {},
   "outputs": [
    {
     "data": {
      "text/plain": [
       "(['D', 'R', 'AY1', 'V'], ['P', 'R', 'OW1', 'L', 'AA0', 'G'])"
      ]
     },
     "execution_count": 23,
     "metadata": {},
     "output_type": "execute_result"
    }
   ],
   "source": [
    "word_phone_dict['DR'], word_phone_dict['PROLOGUE']"
   ]
  },
  {
   "cell_type": "code",
   "execution_count": null,
   "metadata": {
    "collapsed": true
   },
   "outputs": [],
   "source": [
    "word_phone_dict"
   ]
  },
  {
   "cell_type": "code",
   "execution_count": null,
   "metadata": {
    "collapsed": true
   },
   "outputs": [],
   "source": [
    "get_last_stressed('dog')"
   ]
  },
  {
   "cell_type": "code",
   "execution_count": null,
   "metadata": {
    "collapsed": true
   },
   "outputs": [],
   "source": []
  }
 ],
 "metadata": {
  "kernelspec": {
   "display_name": "Python [default]",
   "language": "python",
   "name": "python3"
  },
  "language_info": {
   "codemirror_mode": {
    "name": "ipython",
    "version": 3
   },
   "file_extension": ".py",
   "mimetype": "text/x-python",
   "name": "python",
   "nbconvert_exporter": "python",
   "pygments_lexer": "ipython3",
   "version": "3.6.3"
  }
 },
 "nbformat": 4,
 "nbformat_minor": 2
}
