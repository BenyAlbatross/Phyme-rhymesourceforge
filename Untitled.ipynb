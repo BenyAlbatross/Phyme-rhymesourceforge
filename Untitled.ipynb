{
 "cells": [
  {
   "cell_type": "code",
   "execution_count": 1,
   "metadata": {},
   "outputs": [],
   "source": [
    "import re\n",
    "from collections import defaultdict\n",
    "import sys\n",
    "sys.path.append('./src')\n",
    "from IOUtil import load_word_phone_dict, load_phone_type_dicts, load_rhyme_trie\n",
    "from util import is_vowel, is_stressed, extract_syllables, get_last_stressed, flatten, is_consonant"
   ]
  },
  {
   "cell_type": "code",
   "execution_count": 2,
   "metadata": {
    "collapsed": true
   },
   "outputs": [],
   "source": [
    "# TODO: group affricate and fricative together\n",
    "word_phone_dict = load_word_phone_dict()\n",
    "phone_type_dict, type_phone_dict = load_phone_type_dicts()"
   ]
  },
  {
   "cell_type": "code",
   "execution_count": 3,
   "metadata": {
    "collapsed": true
   },
   "outputs": [],
   "source": [
    "def stress_vowel(vowel):\n",
    "    '''Given a plain vowel, eg AY, yield its stressed versions'''\n",
    "    for x in range(1, 3):\n",
    "        yield vowel + str(x)"
   ]
  },
  {
   "cell_type": "code",
   "execution_count": 4,
   "metadata": {
    "collapsed": true
   },
   "outputs": [],
   "source": [
    "# TEST\n",
    "rt = load_rhyme_trie()\n",
    "for word, phones in word_phone_dict.items():\n",
    "    retrieved = rt.search(phones)\n",
    "    assert word in retrieved.words\n",
    "assert 'KLEVEN' in set(rt.search(word_phone_dict['LEVEN']).get_sub_words())"
   ]
  },
  {
   "cell_type": "code",
   "execution_count": 5,
   "metadata": {},
   "outputs": [],
   "source": [
    "class RhymeDict(object):\n",
    "    \n",
    "    def __init__(self):\n",
    "        self.dict = load_word_phone_dict()\n",
    "        self.rhyme_trie = load_rhyme_trie()\n",
    "        self.phone_type_dict, self.type_phone_dict = load_phone_type_dicts()\n",
    "        self.voiced = self.type_phone_dict['vowel']\n",
    "        self.voiced.update({'B', 'D', 'G', 'V', 'DH', 'Z', 'ZH', 'JH', 'M', 'N', 'NG', 'L', 'R'})\n",
    "        self.type_voiced_phone_dict = defaultdict(lambda: defaultdict(set))\n",
    "        # TODO: group affricates and fricatives\n",
    "        for type_, phones in self.type_phone_dict.items():\n",
    "            for phone in phones:\n",
    "                if self.is_voiced(phone):\n",
    "                    self.type_voiced_phone_dict[type_]['voiced'] = phone\n",
    "                else:\n",
    "                    self.type_voiced_phone_dict[type_]['unvoiced'] = phone\n",
    "    \n",
    "    def get_perfect_rhymes(self, word):\n",
    "        '''Get perfect rhymes of a word, based on its last stressed vowel'''\n",
    "        word = word.upper()\n",
    "        phones = self.dict[word]\n",
    "        phones = list(flatten(get_last_stressed(phones)))\n",
    "        # chop off first consonant\n",
    "        if is_consonant(phones[0]):\n",
    "            phones = phones[1:]\n",
    "        results = set(rt.search(phones).get_sub_words())\n",
    "        if results:\n",
    "            results.remove(word)\n",
    "        return results\n",
    "    \n",
    "    def get_additive_rhymes(self, word):\n",
    "        '''Get additve rhymes (PASS -> FAST)'''\n",
    "        # TODO: find legitimate amalgamations of consonants?\n",
    "        pass\n",
    "    \n",
    "    def get_subtractive_rhymes(self, word):\n",
    "        '''Get subtractive rhymes (FAST -> PASS)'''\n",
    "        pass\n",
    "    \n",
    "    def get_family_rhymes(self, word):\n",
    "        '''Get rhymes from the same consonant family (type, voiced) '''\n",
    "        pass\n",
    "    \n",
    "    def get_partner_rhymes(self, word):\n",
    "        '''Get rhymes from the same consonant groups (eg, fricative)'''\n",
    "        pass\n",
    "    \n",
    "    def get_assonance_rhymes(self, word):\n",
    "        '''Get rhymes that stress the same vowel'''\n",
    "        pass\n",
    "    \n",
    "    def get_perfect_vowel_partner_rhymes(self, word):\n",
    "        '''Get rhymes using similar vowels with the same consonant'''\n",
    "        pass\n",
    "    \n",
    "    def get_family_vowel_partner_partner_rhymes(self, word):\n",
    "        '''Get rhymes using similar values with consonant family'''\n",
    "        pass\n",
    "    \n",
    "    def get_partner_vowel_partner_rhymes(self, word):\n",
    "        '''Get rhymes with similar vowels with same consonant group'''\n",
    "        pass\n",
    "    \n",
    "    def get_consonant_rhymes(self, word):\n",
    "        '''Get rhymes that end with the same consonant'''\n",
    "        pass\n",
    "    \n",
    "    def get_consonant_family(self, word):\n",
    "        '''Gets the end consonant family of a word\n",
    "        TODO: multiconsonant, unstressed syllables?\n",
    "        '''\n",
    "        word = word.upper()\n",
    "        phones = self.dict[word][::-1]\n",
    "        end_phone = phones[0]\n",
    "        return self.phone_type_dict[end_phone], self.is_voiced(end_phone)\n",
    "    \n",
    "    def is_voiced(self, consonant):\n",
    "        return consonant in self.voiced\n",
    "        "
   ]
  },
  {
   "cell_type": "code",
   "execution_count": 6,
   "metadata": {},
   "outputs": [
    {
     "ename": "TypeError",
     "evalue": "argument of type 'NoneType' is not iterable",
     "output_type": "error",
     "traceback": [
      "\u001b[0;31m---------------------------------------------------------------------------\u001b[0m",
      "\u001b[0;31mTypeError\u001b[0m                                 Traceback (most recent call last)",
      "\u001b[0;32m<ipython-input-6-14a16b7dcca3>\u001b[0m in \u001b[0;36m<module>\u001b[0;34m()\u001b[0m\n\u001b[1;32m      2\u001b[0m \u001b[0;32massert\u001b[0m \u001b[0;34m'COG'\u001b[0m \u001b[0;32min\u001b[0m \u001b[0mrd\u001b[0m\u001b[0;34m.\u001b[0m\u001b[0mget_perfect_rhymes\u001b[0m\u001b[0;34m(\u001b[0m\u001b[0;34m'dog'\u001b[0m\u001b[0;34m)\u001b[0m\u001b[0;34m\u001b[0m\u001b[0m\n\u001b[1;32m      3\u001b[0m \u001b[0;32massert\u001b[0m \u001b[0;34m'SIMPLE'\u001b[0m \u001b[0;32min\u001b[0m \u001b[0mrd\u001b[0m\u001b[0;34m.\u001b[0m\u001b[0mget_perfect_rhymes\u001b[0m\u001b[0;34m(\u001b[0m\u001b[0;34m'dimple'\u001b[0m\u001b[0;34m)\u001b[0m\u001b[0;34m\u001b[0m\u001b[0m\n\u001b[0;32m----> 4\u001b[0;31m \u001b[0;32massert\u001b[0m \u001b[0;34m'COB'\u001b[0m \u001b[0;32min\u001b[0m \u001b[0mrd\u001b[0m\u001b[0;34m.\u001b[0m\u001b[0mget_family_rhymes\u001b[0m\u001b[0;34m(\u001b[0m\u001b[0;34m'dog'\u001b[0m\u001b[0;34m)\u001b[0m\u001b[0;34m\u001b[0m\u001b[0m\n\u001b[0m",
      "\u001b[0;31mTypeError\u001b[0m: argument of type 'NoneType' is not iterable"
     ]
    }
   ],
   "source": [
    "rd = RhymeDict()\n",
    "assert 'COG' in rd.get_perfect_rhymes('dog')\n",
    "assert 'SIMPLE' in rd.get_perfect_rhymes('dimple')\n",
    "assert 'COB' in rd.get_family_rhymes('dog')"
   ]
  },
  {
   "cell_type": "code",
   "execution_count": 7,
   "metadata": {},
   "outputs": [
    {
     "data": {
      "text/plain": [
       "{'BOEPPLE', 'KLOEPPEL', 'KOEPPEL', 'KOPEL', 'OPAL', 'OPEL', 'OPLE', 'TOPEL'}"
      ]
     },
     "execution_count": 7,
     "metadata": {},
     "output_type": "execute_result"
    }
   ],
   "source": [
    "rd.get_perfect_rhymes('constantinople')"
   ]
  },
  {
   "cell_type": "code",
   "execution_count": null,
   "metadata": {
    "collapsed": true
   },
   "outputs": [],
   "source": [
    "word_phone_dict['DR'], word_phone_dict['PROLOGUE']"
   ]
  },
  {
   "cell_type": "code",
   "execution_count": null,
   "metadata": {
    "collapsed": true
   },
   "outputs": [],
   "source": [
    "word_phone_dict"
   ]
  },
  {
   "cell_type": "code",
   "execution_count": null,
   "metadata": {},
   "outputs": [],
   "source": [
    "get_last_stressed('dog')"
   ]
  },
  {
   "cell_type": "code",
   "execution_count": null,
   "metadata": {
    "collapsed": true
   },
   "outputs": [],
   "source": []
  }
 ],
 "metadata": {
  "kernelspec": {
   "display_name": "Python 3",
   "language": "python",
   "name": "python3"
  },
  "language_info": {
   "codemirror_mode": {
    "name": "ipython",
    "version": 3
   },
   "file_extension": ".py",
   "mimetype": "text/x-python",
   "name": "python",
   "nbconvert_exporter": "python",
   "pygments_lexer": "ipython3",
   "version": "3.6.2"
  }
 },
 "nbformat": 4,
 "nbformat_minor": 2
}
